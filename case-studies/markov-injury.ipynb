{
  "cells": [
    {
      "cell_type": "raw",
      "metadata": {},
      "source": [
        "---\n",
        "title: \"Injury Markov Model\"\n",
        "---"
      ],
      "id": "38acdaa1"
    },
    {
      "cell_type": "markdown",
      "metadata": {},
      "source": [
        "```{graphviz}\n",
        "digraph MarkovModel {\n",
        "    rankdir=TB;\n",
        "    node [shape = ellipse, style=filled, color=lightblue];\n",
        "\n",
        "    // Define states\n",
        "    NoInjury [label=\"No Injury (Healthy)\", pos=\"0,2!\"];\n",
        "    MinorInjury [label=\"Minor Injury\", pos=\"1,1!\"];\n",
        "    ModerateInjury [label=\"Moderate Injury\", pos=\"1,0!\"];\n",
        "    SevereInjury [label=\"Severe Injury\", pos=\"1,-1!\"];\n",
        "    RecoveredSequelae [label=\"Recovered with Sequelae\", pos=\"2,0!\"];\n",
        "    Death [label=\"Death\", color=lightgray, pos=\"3,1!\"];\n",
        "    DeathInjury [label=\"Death from Injury\", color=lightgray, pos=\"3,-1!\"];\n",
        "\n",
        "    // Define transitions without labels\n",
        "    NoInjury -> MinorInjury;\n",
        "    NoInjury -> ModerateInjury;\n",
        "    NoInjury -> SevereInjury;\n",
        "    NoInjury -> Death;\n",
        "\n",
        "    MinorInjury -> NoInjury;\n",
        "    MinorInjury -> RecoveredSequelae;\n",
        "    MinorInjury -> Death;\n",
        "\n",
        "    ModerateInjury -> NoInjury;\n",
        "    ModerateInjury -> RecoveredSequelae;\n",
        "    ModerateInjury -> DeathInjury;\n",
        "\n",
        "    SevereInjury -> NoInjury;\n",
        "    SevereInjury -> RecoveredSequelae;\n",
        "    SevereInjury -> DeathInjury;\n",
        "\n",
        "    RecoveredSequelae -> Death;\n",
        "\n",
        "    // Tighter and more circular loopbacks to represent ongoing risk or recurrence\n",
        "    NoInjury -> NoInjury [headport=n, tailport=n, constraint=false];\n",
        "    MinorInjury -> MinorInjury [headport=n, tailport=n, constraint=false];\n",
        "    ModerateInjury -> ModerateInjury [headport=s, tailport=s, constraint=false]; // Loopback on the bottom\n",
        "    SevereInjury -> SevereInjury [headport=n, tailport=n, constraint=false];\n",
        "    RecoveredSequelae -> RecoveredSequelae [headport=n, tailport=n, constraint=false];\n",
        "}\n",
        "\n",
        "```"
      ],
      "id": "778d7b4c"
    }
  ],
  "metadata": {
    "kernelspec": {
      "display_name": "Python 3",
      "language": "python",
      "name": "python3"
    }
  },
  "nbformat": 4,
  "nbformat_minor": 5
}